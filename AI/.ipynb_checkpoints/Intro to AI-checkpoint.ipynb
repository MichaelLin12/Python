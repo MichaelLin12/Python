{
 "cells": [
  {
   "cell_type": "code",
   "execution_count": 1,
   "id": "e59880cb",
   "metadata": {},
   "outputs": [
    {
     "data": {
      "text/plain": [
       "'\\n1. AI can think humanly\\n2. AI can think rationaly\\n3. AI can act humanly\\n4. AI can act rationally\\n\\n\\nThe Turing Test, proposed by Alan Turing (1950), was designed to provide a satisfactory\\noperational definition of intelligence. A computer passes the test if a human interrogator, after\\nposing some written questions, cannot tell whether the written responses come from a person\\nor from a computer.\\n\\nThe computer would need to possess natural language processing, knowledge representation, automated reasoning, machine learning\\n\\nthe so-called total Turing Test includes a video signal so that the interrogator can test the\\nsubject’s perceptual abilities, as well as the opportunity for the interrogator to pass physical\\nobjects “through the hatch.” To pass the total Turing Test, the computer will need computer vision and robotics\\n'"
      ]
     },
     "execution_count": 1,
     "metadata": {},
     "output_type": "execute_result"
    }
   ],
   "source": [
    "\"\"\"\n",
    "1. AI can think humanly\n",
    "2. AI can think rationaly\n",
    "3. AI can act humanly\n",
    "4. AI can act rationally\n",
    "\n",
    "\n",
    "The Turing Test, proposed by Alan Turing (1950), was designed to provide a satisfactory\n",
    "operational definition of intelligence. A computer passes the test if a human interrogator, after\n",
    "posing some written questions, cannot tell whether the written responses come from a person\n",
    "or from a computer.\n",
    "\n",
    "The computer would need to possess natural language processing, knowledge representation, automated reasoning, machine learning\n",
    "\n",
    "the so-called total Turing Test includes a video signal so that the interrogator can test the\n",
    "subject’s perceptual abilities, as well as the opportunity for the interrogator to pass physical\n",
    "objects “through the hatch.” To pass the total Turing Test, the computer will need computer vision and robotics\n",
    "\n",
    "These six disciplines compose most of AI, and Turing deserves credit for designing a test\n",
    "that remains relevant 60 years later.\n",
    "\"\"\""
   ]
  },
  {
   "cell_type": "code",
   "execution_count": null,
   "id": "14ab5a0b",
   "metadata": {},
   "outputs": [],
   "source": []
  }
 ],
 "metadata": {
  "kernelspec": {
   "display_name": "Python 3 (ipykernel)",
   "language": "python",
   "name": "python3"
  },
  "language_info": {
   "codemirror_mode": {
    "name": "ipython",
    "version": 3
   },
   "file_extension": ".py",
   "mimetype": "text/x-python",
   "name": "python",
   "nbconvert_exporter": "python",
   "pygments_lexer": "ipython3",
   "version": "3.10.9"
  }
 },
 "nbformat": 4,
 "nbformat_minor": 5
}
