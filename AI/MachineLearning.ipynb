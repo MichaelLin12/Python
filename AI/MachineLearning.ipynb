{
 "cells": [
  {
   "cell_type": "code",
   "execution_count": 1,
   "id": "3cdcbb8a",
   "metadata": {},
   "outputs": [
    {
     "data": {
      "text/plain": [
       "'\\nMachine learning (ML) is basically a set of mathematical algorithms developed in the 1980s. \\nMachine learning is an important subset of AI, and it is the science that aims to teach computers, \\nor machines, to learn from data and to analyze data automatically, without human intervention.\\n'"
      ]
     },
     "execution_count": 1,
     "metadata": {},
     "output_type": "execute_result"
    }
   ],
   "source": [
    "\"\"\"\n",
    "Machine learning (ML) is basically a set of mathematical algorithms developed in the 1980s. \n",
    "Machine learning is an important subset of AI, and it is the science that aims to teach computers, \n",
    "or machines, to learn from data and to analyze data automatically, without human intervention.\n",
    "\"\"\""
   ]
  },
  {
   "cell_type": "code",
   "execution_count": 2,
   "id": "4e4a6a9d",
   "metadata": {},
   "outputs": [
    {
     "data": {
      "text/plain": [
       "'\\nClassification means to identify, for a given input sample, which class (or category) \\nsomething belongs to, such as dog or cat, male or female, cancer or no cancer, genuine or fake, and so on. \\nThe most popular supervised learning algorithms are the following: support vector machines, \\nnaive Bayes, linear discriminant analysis, decision trees, k-nearest neighbor algorithm, \\nneural networks (multilayer perceptron), and similarity learning. Regression means, for the given data, \\nfit the data with a model to get the best-fit parameters. \\nThe most popular regression algorithms are linear regression, logistic regression, and polynomial regression.\\n'"
      ]
     },
     "execution_count": 2,
     "metadata": {},
     "output_type": "execute_result"
    }
   ],
   "source": [
    "\"\"\"\n",
    "In supervised learning, models are trained with labeled data. \n",
    "During the training, algorithms continuously adjust the parameters of models \n",
    "until the error calculated between the output and the desired output for a given input is minimized. \n",
    "\"\"\"\n",
    "\n",
    "\"\"\"\n",
    "Classification means to identify, for a given input sample, which class (or category) \n",
    "something belongs to, such as dog or cat, male or female, cancer or no cancer, genuine or fake, and so on. \n",
    "The most popular supervised learning algorithms are the following: support vector machines, \n",
    "naive Bayes, linear discriminant analysis, decision trees, k-nearest neighbor algorithm, \n",
    "neural networks (multilayer perceptron), and similarity learning. Regression means, for the given data, \n",
    "fit the data with a model to get the best-fit parameters. \n",
    "The most popular regression algorithms are linear regression, logistic regression, and polynomial regression.\n",
    "\"\"\"\n",
    "\n"
   ]
  },
  {
   "cell_type": "code",
   "execution_count": 3,
   "id": "75475cc2",
   "metadata": {},
   "outputs": [
    {
     "data": {
      "text/plain": [
       "'\\nIn unsupervised learning, models are fed with unlabeled data. \\nThe algorithms will study the data and divide it into groups according to features. \\nUnsupervised learning is typically used for clustering and association. \\nClustering means dividing the data into groups. \\nThe most popular clustering algorithm is K-means clustering. \\nAssociation means to discover rules that describe the majority portion of the data. \\nA popular association algorithm is the Apriori algorithm.\\n'"
      ]
     },
     "execution_count": 3,
     "metadata": {},
     "output_type": "execute_result"
    }
   ],
   "source": [
    "\"\"\"\n",
    "In unsupervised learning, models are fed with unlabeled data. \n",
    "The algorithms will study the data and divide it into groups according to features. \n",
    "Unsupervised learning is typically used for clustering and association. \n",
    "Clustering means dividing the data into groups. \n",
    "The most popular clustering algorithm is K-means clustering. \n",
    "Association means to discover rules that describe the majority portion of the data. \n",
    "A popular association algorithm is the Apriori algorithm.\n",
    "\"\"\""
   ]
  },
  {
   "cell_type": "code",
   "execution_count": 4,
   "id": "be9467d0",
   "metadata": {},
   "outputs": [
    {
     "data": {
      "text/plain": [
       "'\\nIn semi-supervised learning, both labeled data and unlabeled data are used. \\nThis is particularly useful when not all the data can be labeled. \\nThe basic procedure is to group the data into different clusters \\nusing an unsupervised learning algorithm and then using the existing labeled data to label the rest of the unlabeled data. \\nThe most popular semi-supervised learning algorithms include self-training, generative methods, mixture models, \\nand graph-based methods. Semi-supervised learning can typically be used in speech analysis, \\ninternet content classification, and protein sequence classification.\\n'"
      ]
     },
     "execution_count": 4,
     "metadata": {},
     "output_type": "execute_result"
    }
   ],
   "source": [
    "\"\"\"\n",
    "In semi-supervised learning, both labeled data and unlabeled data are used. \n",
    "This is particularly useful when not all the data can be labeled. \n",
    "The basic procedure is to group the data into different clusters \n",
    "using an unsupervised learning algorithm and then using the existing labeled data to label the rest of the unlabeled data. \n",
    "The most popular semi-supervised learning algorithms include self-training, generative methods, mixture models, \n",
    "and graph-based methods. Semi-supervised learning can typically be used in speech analysis, \n",
    "internet content classification, and protein sequence classification.\n",
    "\"\"\""
   ]
  },
  {
   "cell_type": "code",
   "execution_count": 5,
   "id": "ac9b543e",
   "metadata": {},
   "outputs": [
    {
     "data": {
      "text/plain": [
       "'\\nIn reinforcement learning, algorithms learn to find, through trial and error, \\nwhich actions can yield the maximum cumulative reward. \\nReinforcement learning is widely used in robotics, video gaming, and navigation.\\n'"
      ]
     },
     "execution_count": 5,
     "metadata": {},
     "output_type": "execute_result"
    }
   ],
   "source": [
    "\"\"\"\n",
    "In reinforcement learning, algorithms learn to find, through trial and error, \n",
    "which actions can yield the maximum cumulative reward. \n",
    "Reinforcement learning is widely used in robotics, video gaming, and navigation.\n",
    "\"\"\""
   ]
  },
  {
   "cell_type": "code",
   "execution_count": null,
   "id": "2811b2c3",
   "metadata": {},
   "outputs": [],
   "source": [
    "\"\"\"\n",
    "Classification means for a given sample you need to predict which category it belongs to. \n",
    "\"\"\"\n",
    "\n",
    "\"\"\"\n",
    "Support vector machine (SVM) is the best-known supervised learning algorithm. \n",
    "You always start machine learning with SVM. \n",
    "The SVM algorithm can be used for both classification and regression problems.\n",
    "You can imagine the two sets of data are two types of flowers,\n",
    "and horizontal and vertical axes are the values of the petals' length and width. \n",
    "SVM will train on this data and create a hyperplane to separate the two sets of the data. \n",
    "In this case, a hyperplane is a straight line. SVM adjusts the position of the hyperplane \n",
    "to maximize the margins to both sets of data. The data points on the margin are called the support vectors.\n",
    "\"\"\""
   ]
  }
 ],
 "metadata": {
  "kernelspec": {
   "display_name": "Python 3 (ipykernel)",
   "language": "python",
   "name": "python3"
  },
  "language_info": {
   "codemirror_mode": {
    "name": "ipython",
    "version": 3
   },
   "file_extension": ".py",
   "mimetype": "text/x-python",
   "name": "python",
   "nbconvert_exporter": "python",
   "pygments_lexer": "ipython3",
   "version": "3.10.9"
  }
 },
 "nbformat": 4,
 "nbformat_minor": 5
}
